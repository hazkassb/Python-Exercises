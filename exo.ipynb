{
 "cells": [
  {
   "cell_type": "code",
   "execution_count": 4,
   "id": "extra-citizenship",
   "metadata": {},
   "outputs": [
    {
     "name": "stdout",
     "output_type": "stream",
     "text": [
      "5\n"
     ]
    }
   ],
   "source": [
    "s1 = \"hamza\"\n",
    "count = 0\n",
    "for ch in s1:\n",
    "    count += 1\n",
    "\n",
    "print(count)"
   ]
  },
  {
   "cell_type": "code",
   "execution_count": 8,
   "id": "accepting-amsterdam",
   "metadata": {},
   "outputs": [
    {
     "data": {
      "text/plain": [
       "True"
      ]
     },
     "execution_count": 8,
     "metadata": {},
     "output_type": "execute_result"
    }
   ],
   "source": [
    "\"a\" in s1"
   ]
  },
  {
   "cell_type": "code",
   "execution_count": 10,
   "id": "synthetic-angle",
   "metadata": {},
   "outputs": [
    {
     "name": "stdout",
     "output_type": "stream",
     "text": [
      "r\n",
      "m\n"
     ]
    }
   ],
   "source": [
    "s1 = \"Hamza is smart\"\n",
    "print(s1[-2]) #negative indexing goes from end to front\n",
    "print(s1[2]) #positive indexing goes from front to end"
   ]
  },
  {
   "cell_type": "code",
   "execution_count": 11,
   "id": "residential-finland",
   "metadata": {},
   "outputs": [
    {
     "name": "stdout",
     "output_type": "stream",
     "text": [
      "range(0, 5)\n"
     ]
    }
   ],
   "source": [
    "print(range(5))"
   ]
  },
  {
   "cell_type": "code",
   "execution_count": null,
   "id": "adequate-blade",
   "metadata": {},
   "outputs": [],
   "source": [
    "#slicing: s1[start_index: end_index:step] ==> default s1[ : : ]"
   ]
  },
  {
   "cell_type": "code",
   "execution_count": 12,
   "id": "religious-private",
   "metadata": {},
   "outputs": [
    {
     "name": "stdout",
     "output_type": "stream",
     "text": [
      "Hmai mr\n"
     ]
    }
   ],
   "source": [
    "print(s1[0 : len(s1) : 2])"
   ]
  },
  {
   "cell_type": "code",
   "execution_count": 13,
   "id": "removed-demand",
   "metadata": {},
   "outputs": [
    {
     "data": {
      "text/plain": [
       "'trams si azmaH'"
      ]
     },
     "execution_count": 13,
     "metadata": {},
     "output_type": "execute_result"
    }
   ],
   "source": [
    "s1[ : : -1] #to reverse the string"
   ]
  },
  {
   "cell_type": "code",
   "execution_count": 14,
   "id": "cardiac-landscape",
   "metadata": {},
   "outputs": [
    {
     "data": {
      "text/plain": [
       "('our first python program',\n",
       " 'OUR FIRST PYTHON PROGRAM',\n",
       " 'Our First Python Program',\n",
       " 'Our first python program',\n",
       " 'OUR FIRST PYTHON PROGRAM')"
      ]
     },
     "execution_count": 14,
     "metadata": {},
     "output_type": "execute_result"
    }
   ],
   "source": [
    "s1 = \"our first python program\"\n",
    "s1.lower(), s1.upper(), s1.title(), s1.capitalize(), s1.swapcase()"
   ]
  },
  {
   "cell_type": "code",
   "execution_count": 15,
   "id": "federal-underwear",
   "metadata": {},
   "outputs": [
    {
     "data": {
      "text/plain": [
       "(2, 0, 12)"
      ]
     },
     "execution_count": 15,
     "metadata": {},
     "output_type": "execute_result"
    }
   ],
   "source": [
    "s1.count(\"t\"), s1.count(\"T\"), s1.index(\"t\", 10)"
   ]
  },
  {
   "cell_type": "code",
   "execution_count": 19,
   "id": "cordless-attitude",
   "metadata": {},
   "outputs": [],
   "source": [
    "s2 = s1.split() #returns a list of subs of s1"
   ]
  },
  {
   "cell_type": "code",
   "execution_count": 24,
   "id": "suburban-shock",
   "metadata": {},
   "outputs": [],
   "source": [
    "s3 = \" \".join(s2) #join() is a more optimized way of concatenating data than using the + operator"
   ]
  },
  {
   "cell_type": "code",
   "execution_count": 25,
   "id": "behind-omaha",
   "metadata": {},
   "outputs": [
    {
     "name": "stdout",
     "output_type": "stream",
     "text": [
      "our first python program\n"
     ]
    }
   ],
   "source": [
    "print(s3)"
   ]
  },
  {
   "cell_type": "code",
   "execution_count": null,
   "id": "greek-punishment",
   "metadata": {},
   "outputs": [],
   "source": [
    "'''String formating'''"
   ]
  },
  {
   "cell_type": "code",
   "execution_count": 35,
   "id": "copyrighted-tolerance",
   "metadata": {},
   "outputs": [
    {
     "ename": "TypeError",
     "evalue": "can only concatenate str (not \"int\") to str",
     "output_type": "error",
     "traceback": [
      "\u001b[0;31m---------------------------------------------------------------------------\u001b[0m",
      "\u001b[0;31mTypeError\u001b[0m                                 Traceback (most recent call last)",
      "\u001b[0;32m<ipython-input-35-41b0986b7a08>\u001b[0m in \u001b[0;36m<module>\u001b[0;34m\u001b[0m\n\u001b[1;32m      2\u001b[0m \u001b[0mday\u001b[0m \u001b[0;34m=\u001b[0m \u001b[0;36m1\u001b[0m\u001b[0;34m\u001b[0m\u001b[0;34m\u001b[0m\u001b[0m\n\u001b[1;32m      3\u001b[0m \u001b[0;34m\u001b[0m\u001b[0m\n\u001b[0;32m----> 4\u001b[0;31m \u001b[0;34m\"Hello \"\u001b[0m \u001b[0;34m+\u001b[0m \u001b[0mname\u001b[0m \u001b[0;34m+\u001b[0m \u001b[0;34m\"! Today is day \"\u001b[0m \u001b[0;34m+\u001b[0m \u001b[0mday\u001b[0m \u001b[0;34m+\u001b[0m\u001b[0;34m\" of training.\"\u001b[0m\u001b[0;34m\u001b[0m\u001b[0;34m\u001b[0m\u001b[0m\n\u001b[0m",
      "\u001b[0;31mTypeError\u001b[0m: can only concatenate str (not \"int\") to str"
     ]
    }
   ],
   "source": [
    "name = \"Hamza\"\n",
    "day = \"1\"\n",
    "\n",
    "\"Hello \" + name + \"! Today is day \" + day +\" of training.\""
   ]
  },
  {
   "cell_type": "code",
   "execution_count": 30,
   "id": "wrong-pursuit",
   "metadata": {},
   "outputs": [
    {
     "data": {
      "text/plain": [
       "'Hello Hamza! Today is day 1 of training'"
      ]
     },
     "execution_count": 30,
     "metadata": {},
     "output_type": "execute_result"
    }
   ],
   "source": [
    "\"Hello {}! Today is day {} of training\".format(name,day)"
   ]
  },
  {
   "cell_type": "code",
   "execution_count": 37,
   "id": "exempt-instrument",
   "metadata": {},
   "outputs": [
    {
     "data": {
      "text/plain": [
       "'Hello Hamza! Today is day 1.00 of training'"
      ]
     },
     "execution_count": 37,
     "metadata": {},
     "output_type": "execute_result"
    }
   ],
   "source": [
    "name = \"Hamza\"\n",
    "day = 1\n",
    "\n",
    "\"Hello {}! Today is day {:.2f} of training\".format(name,day) #format the data to 2 decimal place floats"
   ]
  },
  {
   "cell_type": "code",
   "execution_count": 39,
   "id": "supposed-builder",
   "metadata": {},
   "outputs": [
    {
     "data": {
      "text/plain": [
       "'c a b'"
      ]
     },
     "execution_count": 39,
     "metadata": {},
     "output_type": "execute_result"
    }
   ],
   "source": [
    "\"{2} {0} {1}\".format(\"a\", \"b\", \"c\") #print strings according to specified indices"
   ]
  },
  {
   "cell_type": "code",
   "execution_count": null,
   "id": "liked-sending",
   "metadata": {},
   "outputs": [],
   "source": []
  }
 ],
 "metadata": {
  "kernelspec": {
   "display_name": "Python 3",
   "language": "python",
   "name": "python3"
  },
  "language_info": {
   "codemirror_mode": {
    "name": "ipython",
    "version": 3
   },
   "file_extension": ".py",
   "mimetype": "text/x-python",
   "name": "python",
   "nbconvert_exporter": "python",
   "pygments_lexer": "ipython3",
   "version": "3.7.5"
  }
 },
 "nbformat": 4,
 "nbformat_minor": 5
}
